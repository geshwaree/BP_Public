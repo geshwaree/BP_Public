{
  "nbformat": 4,
  "nbformat_minor": 0,
  "metadata": {
    "colab": {
      "name": "Test.ipynb",
      "provenance": [],
      "authorship_tag": "ABX9TyNMYbXg7cKV/8EcZoApGo0g",
      "include_colab_link": true
    },
    "kernelspec": {
      "name": "python3",
      "display_name": "Python 3"
    },
    "language_info": {
      "name": "python"
    }
  },
  "cells": [
    {
      "cell_type": "markdown",
      "metadata": {
        "id": "view-in-github",
        "colab_type": "text"
      },
      "source": [
        "<a href=\"https://colab.research.google.com/github/geshwaree/BP_Public/blob/main/Test.ipynb\" target=\"_parent\"><img src=\"https://colab.research.google.com/assets/colab-badge.svg\" alt=\"Open In Colab\"/></a>"
      ]
    },
    {
      "cell_type": "code",
      "execution_count": null,
      "metadata": {
        "colab": {
          "base_uri": "https://localhost:8080/"
        },
        "id": "C00C7i7rmlvk",
        "outputId": "499f5d31-8d6b-42bd-d985-334750c6ec91"
      },
      "outputs": [
        {
          "output_type": "stream",
          "name": "stdout",
          "text": [
            "Test\n",
            "Test\n",
            "Test\n",
            "Test\n",
            "Test\n"
          ]
        }
      ],
      "source": [
        "#print(\"hello\")\n",
        "#print(\"good morning\")\n",
        "\n",
        "for i in range(5):\n",
        "  print(\"Test\")"
      ]
    }
  ]
}